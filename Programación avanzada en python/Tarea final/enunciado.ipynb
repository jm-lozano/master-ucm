{
 "cells": [
  {
   "cell_type": "markdown",
   "metadata": {
    "id": "ju_OpkzM_aMb"
   },
   "source": [
    "\n",
    "MÁSTER BIG DATA & DATA ENGINEERING\n",
    "\n",
    "Programación avanzada en Python\n",
    "\n",
    "Autores: Luis Llana Díaz & Yolanda García Ruiz\n",
    "\n"
   ]
  },
  {
   "cell_type": "markdown",
   "metadata": {
    "id": "lv6DO-LM_aMn"
   },
   "source": [
    "# Trabajo final"
   ]
  },
  {
   "cell_type": "markdown",
   "metadata": {
    "id": "oflRIdDz_aMp"
   },
   "source": [
    "## Nota Preliminar\n",
    "\n",
    "Antes de desarrollar el proyecto, es aconsejable leer el enunciado completamente, incluyendo las instrucciones de entrega y otros consejos que se  recogen al final de este enunciado.\n",
    "En este enunciado se pueden producir cambios durante su desarrollo por distintos motivos: porque se descubre una situación anómala que no ha sido prevista al preparar el enunciado, porque algún estudiante encuentre un error o ambigüedad en la descripción o en los datos de partida o por cualquier otra causa. Esto ocurre también en cualquier proyecto real, así que tomárselo con el mejor talante y aprender también de estas eventuales contingencias. Se procurará informar debidamente del mejor modo posible cuando esto se produzca.\n"
   ]
  },
  {
   "cell_type": "markdown",
   "metadata": {
    "id": "ASxqaXhcRt7m"
   },
   "source": [
    "## Introducción\n",
    "\n",
    "En el portal de datos abiertos del Ayuntamiento de Madrid se puede encontrar conjuntos de datos sobre multas de circulación que el Ayuntamiento de Madrid tramita cada mes, con todo el detalle posible sobre cada una de ellas que permite la legislación de protección de datos. \n",
    "\n",
    "\n",
    "La dirección del portal mencionado es la siguiente:\n",
    "\n",
    "https://datos.madrid.es\n",
    "\n",
    "y el enlace donde se encuentran los datos relativos al detalle de las multas de dirculación  es el siguiente:\n",
    "\n",
    "https://datos.madrid.es/sites/v/index.jsp?vgnextoid=fb9a498a6bdb9410VgnVCM1000000b205a0aRCRD&vgnextchannel=374512b9ace9f310VgnVCM100000171f5a0aRCRD\n",
    "\n",
    "\n",
    "En éste último enlace  podemos encontrar los datos de multas por meses desde el año 2014. Se trata de un conjunto de URLs a ficheros en formato `csv`.\n",
    "En esta práctica __solo nos va a interesar los datos desde junio el 2017__. \n",
    "\n",
    "### Metadatos\n",
    "\n",
    "En cada uno de los ficheros `csv` podemos encontrar los siguientes datos:\n",
    "\n",
    "\n",
    "| **Campo**         | **Descripción**                                                                                                                         |\n",
    "| :---------------- | :-------------------------------------------------------------------------------------------------------------------------------------- |\n",
    "| **CALIFICACION**  | Gravedad de la infracción cometida.                                                |\n",
    "| **LUGAR**         | Dirección donde se cometió la infracción (calle y número).                                                                       |\n",
    "| **MES**           | Mes en el que se registró la infracción.                                                                          |\n",
    "| **ANIO**          | Año en que ocurrió la infracción (por ejemplo, 2019).                                                                                   |\n",
    "| **HORA**          | Hora del día en la que se registró la infracción (en formato decimal, ej. `10.42`).                                                     |\n",
    "| **IMP\\_BOL**      | Importe de la sanción (en euros).                                                                                             |\n",
    "| **DESCUENTO**     | Indica si aplica descuento por pronto pago.                                                                           |\n",
    "| **PUNTOS**        | Número de puntos retirados del carnet de conducir (si aplica).                                                                          |\n",
    "| **DENUNCIANTE**   | Autoridad o entidad que impuso la sanción.                                               |\n",
    "| **HECHO-BOL**     | Descripción textual del hecho sancionado. |\n",
    "| **VEL\\_LIMITE**   | Límite de velocidad permitido (en km/h).                                                                |\n",
    "| **VEL\\_CIRCULA**  | Velocidad real a la que circulaba el vehículo (en km/h).                                                      |\n",
    "| **COORDENADA\\_X** | Coordenada X para geolocalizar la infracción.                                                          |\n",
    "| **COORDENADA\\_Y** | Coordenada Y para geolocalización.                                                                          |\n",
    "\n"
   ]
  },
  {
   "cell_type": "markdown",
   "metadata": {},
   "source": [
    "\n",
    "## Librerías\n",
    "\n",
    "Importar todas las librerías necesarias al principio, tal como propone el estilo `pep-8`. Ej.:\n",
    "<a href=\"https://www.python.org/dev/peps/pep-0008/\">PEP 8 -- Style Guide for Python Code</a>."
   ]
  },
  {
   "cell_type": "code",
   "execution_count": 6,
   "metadata": {
    "id": "pWnis8jARt7p"
   },
   "outputs": [],
   "source": [
    "# Sol\n",
    "import numpy as np\n",
    "import pandas as pd\n",
    "import requests\n",
    "import re\n",
    "from os import listdir\n",
    "import urllib\n",
    "import io\n",
    "from io import StringIO\n",
    "import matplotlib.pyplot as plt\n"
   ]
  },
  {
   "cell_type": "markdown",
   "metadata": {
    "id": "PQD68K2e8Lv4"
   },
   "source": [
    "## ETAPA 1. Análisis exploratorio y consultas."
   ]
  },
  {
   "cell_type": "markdown",
   "metadata": {
    "id": "0KFTJmT8Rt7r"
   },
   "source": [
    "\n",
    "\n",
    "### La descarga de datos\n",
    "\n",
    "En este notebook vamos a estudiar únicamente los datos de diciembre  de 2024.\n",
    "La URL que permite descargar dichos datos es la siguiente:"
   ]
  },
  {
   "cell_type": "code",
   "execution_count": 7,
   "metadata": {
    "id": "mbchhQSgRt7r"
   },
   "outputs": [],
   "source": [
    "url = \"https://datos.madrid.es/egob/catalogo/210104-395-multas-circulacion-detalle.csv\""
   ]
  },
  {
   "cell_type": "markdown",
   "metadata": {},
   "source": [
    "Podemos hacer la petición con `request.get()`:"
   ]
  },
  {
   "cell_type": "code",
   "execution_count": 8,
   "metadata": {},
   "outputs": [
    {
     "name": "stdout",
     "output_type": "stream",
     "text": [
      "https://datos.madrid.es:443/egobfiles/MANUAL/210104/202412detalle.csv\n"
     ]
    }
   ],
   "source": [
    "response = requests.get(url)\n",
    "if response.status_code == 200:\n",
    "    print(response.url)"
   ]
  },
  {
   "cell_type": "markdown",
   "metadata": {},
   "source": [
    "Como podemos observar, el servidor redirige la url `https://datos.madrid.es/egob/catalogo/210104-395-multas-circulacion-detalle.csv` a la url `https://datos.madrid.es:443/egobfiles/MANUAL/210104/202412detalle.csv` correspondiente al mes 12 del año 2024."
   ]
  },
  {
   "cell_type": "markdown",
   "metadata": {},
   "source": [
    "Para crear el dataframe con los datos de las multas de tráfico, podríamos usar cualquiera de las dos url's anteriores, pero nos vamos a quedar con la primera, que es la que aparece en el HTML en `datos.madrid.es` :"
   ]
  },
  {
   "cell_type": "code",
   "execution_count": 9,
   "metadata": {},
   "outputs": [
    {
     "data": {
      "text/html": [
       "<div>\n",
       "<style scoped>\n",
       "    .dataframe tbody tr th:only-of-type {\n",
       "        vertical-align: middle;\n",
       "    }\n",
       "\n",
       "    .dataframe tbody tr th {\n",
       "        vertical-align: top;\n",
       "    }\n",
       "\n",
       "    .dataframe thead th {\n",
       "        text-align: right;\n",
       "    }\n",
       "</style>\n",
       "<table border=\"1\" class=\"dataframe\">\n",
       "  <thead>\n",
       "    <tr style=\"text-align: right;\">\n",
       "      <th></th>\n",
       "      <th>CALIFICACION</th>\n",
       "      <th>LUGAR</th>\n",
       "      <th>MES</th>\n",
       "      <th>ANIO</th>\n",
       "      <th>HORA</th>\n",
       "      <th>IMP_BOL</th>\n",
       "      <th>DESCUENTO</th>\n",
       "      <th>PUNTOS</th>\n",
       "      <th>DENUNCIANTE</th>\n",
       "      <th>HECHO-BOL</th>\n",
       "      <th>VEL_LIMITE</th>\n",
       "      <th>VEL_CIRCULA</th>\n",
       "      <th>COORDENADA-X</th>\n",
       "      <th>COORDENADA-Y</th>\n",
       "    </tr>\n",
       "  </thead>\n",
       "  <tbody>\n",
       "    <tr>\n",
       "      <th>0</th>\n",
       "      <td>LEVE</td>\n",
       "      <td>CL CLARA DEL REY 36</td>\n",
       "      <td>12</td>\n",
       "      <td>2024</td>\n",
       "      <td>20.23</td>\n",
       "      <td>60.0</td>\n",
       "      <td>SI</td>\n",
       "      <td>0</td>\n",
       "      <td>SER</td>\n",
       "      <td>ESTACIONAR CON AUTORIZACIÓN NO VÁLIDA.        ...</td>\n",
       "      <td></td>\n",
       "      <td></td>\n",
       "      <td></td>\n",
       "      <td></td>\n",
       "    </tr>\n",
       "    <tr>\n",
       "      <th>1</th>\n",
       "      <td>LEVE</td>\n",
       "      <td>CL CLARA DEL REY 28</td>\n",
       "      <td>12</td>\n",
       "      <td>2024</td>\n",
       "      <td>20.27</td>\n",
       "      <td>90.0</td>\n",
       "      <td>SI</td>\n",
       "      <td>0</td>\n",
       "      <td>SER</td>\n",
       "      <td>ESTACIONAR, SIN LA CORRESPONDIENTE AUTORIZACIÓ...</td>\n",
       "      <td></td>\n",
       "      <td></td>\n",
       "      <td></td>\n",
       "      <td></td>\n",
       "    </tr>\n",
       "    <tr>\n",
       "      <th>2</th>\n",
       "      <td>GRAVE</td>\n",
       "      <td>CL CANILLAS 63</td>\n",
       "      <td>12</td>\n",
       "      <td>2024</td>\n",
       "      <td>20.45</td>\n",
       "      <td>200.0</td>\n",
       "      <td>SI</td>\n",
       "      <td>0</td>\n",
       "      <td>SER</td>\n",
       "      <td>ESTACIONAR OBSTACULIZANDO LA UTILIZACIÓN DE UN...</td>\n",
       "      <td></td>\n",
       "      <td></td>\n",
       "      <td></td>\n",
       "      <td></td>\n",
       "    </tr>\n",
       "    <tr>\n",
       "      <th>3</th>\n",
       "      <td>LEVE</td>\n",
       "      <td>CL BRAVO MURILLO 24</td>\n",
       "      <td>12</td>\n",
       "      <td>2024</td>\n",
       "      <td>16.30</td>\n",
       "      <td>60.0</td>\n",
       "      <td>SI</td>\n",
       "      <td>0</td>\n",
       "      <td>SER</td>\n",
       "      <td>ESTACIONAR CON AUTORIZACIÓN NO VÁLIDA.        ...</td>\n",
       "      <td></td>\n",
       "      <td></td>\n",
       "      <td></td>\n",
       "      <td></td>\n",
       "    </tr>\n",
       "    <tr>\n",
       "      <th>4</th>\n",
       "      <td>LEVE</td>\n",
       "      <td>CL BRAVO MURILLO 16</td>\n",
       "      <td>12</td>\n",
       "      <td>2024</td>\n",
       "      <td>16.50</td>\n",
       "      <td>90.0</td>\n",
       "      <td>SI</td>\n",
       "      <td>0</td>\n",
       "      <td>SER</td>\n",
       "      <td>ESTACIONAR, SIN LA CORRESPONDIENTE AUTORIZACIÓ...</td>\n",
       "      <td></td>\n",
       "      <td></td>\n",
       "      <td></td>\n",
       "      <td></td>\n",
       "    </tr>\n",
       "  </tbody>\n",
       "</table>\n",
       "</div>"
      ],
      "text/plain": [
       "  CALIFICACION                                     LUGAR  MES  ANIO   HORA  \\\n",
       "0   LEVE        CL CLARA DEL REY 36                        12  2024  20.23   \n",
       "1   LEVE        CL CLARA DEL REY 28                        12  2024  20.27   \n",
       "2   GRAVE       CL CANILLAS 63                             12  2024  20.45   \n",
       "3   LEVE        CL BRAVO MURILLO 24                        12  2024  16.30   \n",
       "4   LEVE        CL BRAVO MURILLO 16                        12  2024  16.50   \n",
       "\n",
       "   IMP_BOL DESCUENTO   PUNTOS                     DENUNCIANTE  \\\n",
       "0     60.0        SI        0  SER                              \n",
       "1     90.0        SI        0  SER                              \n",
       "2    200.0        SI        0  SER                              \n",
       "3     60.0        SI        0  SER                              \n",
       "4     90.0        SI        0  SER                              \n",
       "\n",
       "                                           HECHO-BOL VEL_LIMITE VEL_CIRCULA   \\\n",
       "0  ESTACIONAR CON AUTORIZACIÓN NO VÁLIDA.        ...                           \n",
       "1  ESTACIONAR, SIN LA CORRESPONDIENTE AUTORIZACIÓ...                           \n",
       "2  ESTACIONAR OBSTACULIZANDO LA UTILIZACIÓN DE UN...                           \n",
       "3  ESTACIONAR CON AUTORIZACIÓN NO VÁLIDA.        ...                           \n",
       "4  ESTACIONAR, SIN LA CORRESPONDIENTE AUTORIZACIÓ...                           \n",
       "\n",
       "  COORDENADA-X  \\\n",
       "0                \n",
       "1                \n",
       "2                \n",
       "3                \n",
       "4                \n",
       "\n",
       "  COORDENADA-Y                                                                                                                                            \n",
       "0                                                                                                                                                         \n",
       "1                                                                                                                                                         \n",
       "2                                                                                                                                                         \n",
       "3                                                                                                                                                         \n",
       "4                                                                                                                                                         "
      ]
     },
     "execution_count": 9,
     "metadata": {},
     "output_type": "execute_result"
    }
   ],
   "source": [
    "# Accedemos al texto \n",
    "content = io.StringIO(response.text)\n",
    "multas = pd.read_csv(content, sep =';', encoding = 'latin1')\n",
    "multas.head()"
   ]
  },
  {
   "cell_type": "markdown",
   "metadata": {
    "id": "OZFFhbfoRt7x"
   },
   "source": [
    "### Explorar la estructura de los datos en el dataframe\n",
    "\n",
    "El método `info` devuelve información acerca de la estructura de un dataframe. Ejecuta el método `info()` sobre el dataframe `multas` y comenta los resultados.\n",
    "Fíjate en las columnas que representan la hora, el día y el año y observa su tipo de datos. ¿Cuántas filas se han cargado?. Fíjate en los valores distintos de `NaN` en cada una de las columnas."
   ]
  },
  {
   "cell_type": "code",
   "execution_count": null,
   "metadata": {
    "id": "sc7qtntbRt7y"
   },
   "outputs": [
    {
     "name": "stdout",
     "output_type": "stream",
     "text": [
      "<class 'pandas.core.frame.DataFrame'>\n",
      "RangeIndex: 249801 entries, 0 to 249800\n",
      "Data columns (total 14 columns):\n",
      " #   Column                                                                                                                                                  Non-Null Count   Dtype  \n",
      "---  ------                                                                                                                                                  --------------   -----  \n",
      " 0   CALIFICACION                                                                                                                                            249801 non-null  object \n",
      " 1   LUGAR                                                                                                                                                   249801 non-null  object \n",
      " 2   MES                                                                                                                                                     249801 non-null  int64  \n",
      " 3   ANIO                                                                                                                                                    249801 non-null  int64  \n",
      " 4   HORA                                                                                                                                                    249801 non-null  float64\n",
      " 5   IMP_BOL                                                                                                                                                 249801 non-null  float64\n",
      " 6   DESCUENTO                                                                                                                                               249801 non-null  object \n",
      " 7    PUNTOS                                                                                                                                                 249801 non-null  int64  \n",
      " 8   DENUNCIANTE                                                                                                                                             249801 non-null  object \n",
      " 9   HECHO-BOL                                                                                                                                               249801 non-null  object \n",
      " 10  VEL_LIMITE                                                                                                                                              249801 non-null  object \n",
      " 11  VEL_CIRCULA                                                                                                                                             249801 non-null  object \n",
      " 12  COORDENADA-X                                                                                                                                            249801 non-null  object \n",
      " 13  COORDENADA-Y                                                                                                                                            249801 non-null  object \n",
      "dtypes: float64(2), int64(3), object(9)\n",
      "memory usage: 26.7+ MB\n"
     ]
    }
   ],
   "source": [
    "# Solución\n",
    "multas.info()\n",
    "\n",
    "# El método info() del dataframe \"multas\" nos ha devuelto información sobre los metadatos del mismo, como\n",
    "# por ejemplo, nombre de las columnas, el tipo de dato, la cantidad de valores no nulos y el tamaño del dataframe en MB.\n",
    "#\n",
    "# Las columnas MES y ANIO corresponden a un tipo de dato int64, un número entero de 64 bits y poseen (cada uno) 249801 valores no nulos.\n",
    "# La columna HORA corresponde a un tipo de dato float, un número real, y posee 249801 valores no nulos.\n",
    "#\n",
    "# El \"Non-Null Count\" corresponde a la cantidad de valores que posee dicha columna y que no son nulo."
   ]
  },
  {
   "cell_type": "markdown",
   "metadata": {
    "id": "M9oCNyRdRt71"
   },
   "source": [
    "###  Exploración de las columnas.\n",
    "\n",
    "__Se pide:__\n",
    "\n",
    "__a)__ ¿Cuántos valores distintos hay en la columna `CALIFICACION` del dataframe `multas`? Modifica los valores de dicha columna para que no contengan espacios en blanco. Puedes usar el método  `str.strip()` de la clase Series.\n",
    "\n",
    "__b)__ ¿Cuántos valores distintos hay en las columnas `DESCUENTO`, `HECHO-BOL` y `DENUNCIANTE` del dataframe `multas`? Modifica los valores de dichas columnas para que no contengan espacios en blanco.\n",
    "\n",
    "__c)__ Muestra el listado de columnas del dataframe.\n",
    "* ¿Cuál es el nombre de la columna que representa la velocidad de circulación registrada? Fíjate en el espacio en blanco al final.\n",
    "* ¿Cuál es el nombre de la columna que representa la coordenada Y de la ubicación geográfica de donde se produce la infracción? Fíjate en la cantidad de espacios en blanco al final.\n",
    "* Muestra la serie de datos correspondiente a la coordenada Y.\n",
    "* Usa el método  `rename` de los dataframes para normalizar los nombres de las columnas del dataframe multas, de forma que los nuevos nombres no tengan espacios en blanco al final. Consulta la ayuda del método `rename`; ésta te propone el uso de métodos de la clase `str` a cada elemento del índice de las columnas (o de las filas). En nuestro caso, para eliminar espacios en blanco usaremos el método `str.strip()` sobre el índice de las columnas.\n",
    "  \n",
    "__d)__ ¿Observa las columnas relativas a la velocidad. ¿De qué tipo son?. \n",
    "¿Cuántos valores distintos hay en las columnas `VEL_LIMITE`, `VEL_CIRCULA`. Por último, estudia la función `pd.to_numeric` de pandas y úsala para transformar el tipo de las columnas  anteriores a tipo numérico.\n",
    "\n",
    "__e)__ ¿Observa las columnas relativas a la geolocalización. ¿De qué tipo son?. Usa la función `pd.to_numeric` de pandas para transformar el tipo de las columnas  `COORDENADA-X`, `COORDENADA-Y` a tipo numérico.\n",
    "\n",
    "El dataframe obtenido después de aplicar todas las transformaciones anteriores "
   ]
  },
  {
   "cell_type": "code",
   "execution_count": 11,
   "metadata": {
    "id": "eoZVNPk2Rt70"
   },
   "outputs": [],
   "source": [
    "# Solución\n"
   ]
  },
  {
   "cell_type": "markdown",
   "metadata": {},
   "source": [
    "### Creación de columna nueva\n",
    "\n",
    "__a)__ A partir del dataframe `multas` que contiene las columnas `MES`, `ANIO` y `HORA`, crear una nueva columna llamada `fecha` de tipo datetime que combine dicha información en un único objeto de fecha y hora. Usa como día el día 1.\n",
    "\n",
    "__b)__ Modifica el dataframe `multas` de forma que el índice sea el valor de la columna creada anteriormente.\n",
    "\n",
    "__c)__ Elimina del dataframe la columna `fecha`.\n",
    "\n"
   ]
  },
  {
   "cell_type": "code",
   "execution_count": null,
   "metadata": {},
   "outputs": [],
   "source": []
  },
  {
   "cell_type": "code",
   "execution_count": 12,
   "metadata": {},
   "outputs": [],
   "source": [
    "# solución\n"
   ]
  },
  {
   "cell_type": "markdown",
   "metadata": {
    "id": "Uv_pgIa5Rt76"
   },
   "source": [
    "## Consultas\n",
    "\n",
    "El dataframe obtenido después de aplicar todas las transformaciones de la sección anterior se considera límpio. Usando dicho dataframe, se pide realizar las siguientes consultas: \n"
   ]
  },
  {
   "cell_type": "markdown",
   "metadata": {},
   "source": [
    "### C1\n",
    "Crear un nuevo dataframe llamado `multas_hora` que contenga el número de multas registradas por hora. Muestra cómo evoluciona el número de multas a lo largo del tiempo mediante un gráfico de líneas como el que se muestra:\n",
    "\n",
    "<div align=\"center\">\n",
    "<img src=\"porhora.png\" alt=\"hora\" style=\"width: 60%;\">\n",
    "</div>"
   ]
  },
  {
   "cell_type": "markdown",
   "metadata": {},
   "source": [
    "### C2 \n",
    "Crea un dataframe que contenga información del número de multas por calificación. Muestra también la información mediante un diagrama de barras limilar al que se muestra:\n",
    "\n",
    "<div align=\"center\">\n",
    "<img src=\"barras_cal.png\" alt=\"hora\" style=\"width: 60%;\">\n",
    "</div>"
   ]
  },
  {
   "cell_type": "code",
   "execution_count": 13,
   "metadata": {},
   "outputs": [],
   "source": [
    "# Sol \n"
   ]
  },
  {
   "cell_type": "markdown",
   "metadata": {},
   "source": [
    "### C3\n",
    " \n",
    "En este ejercicio se analizará cómo evoluciona el número de multas por hora en función de su calificación (LEVE, GRAVE o MUY GRAVE). Crear un nuevo dataframe llamado `multas_hora_tipo` que contenga el número de multas registradas por hora y calificación. Muestra cómo evoluciona el número de multas a lo largo del tiempo mediante un gráfico de líneas como el que se muestra:\n",
    "\n",
    "<div align=\"center\">\n",
    "<img src=\"porhora_tipo.png\" alt=\"hora\" style=\"width: 60%;\">\n",
    "</div>"
   ]
  },
  {
   "cell_type": "code",
   "execution_count": 14,
   "metadata": {},
   "outputs": [],
   "source": [
    "# Sol\n"
   ]
  },
  {
   "cell_type": "markdown",
   "metadata": {},
   "source": [
    "### C4\n",
    "Vamos a comparar comparar la velocidad límite de la vía con la velocidad real registrada en cada infracción. Utiliza un diagrama de dispersión (scatter) en el que el eje X represente la velocidad límite, y el eje Y represente la velocidad registrada. Por ejemplo:\n",
    "<div align=\"center\">\n",
    "<img src=\"velocidades.png\" alt=\"hora\" style=\"width: 60%;\">\n",
    "</div>"
   ]
  },
  {
   "cell_type": "code",
   "execution_count": 15,
   "metadata": {},
   "outputs": [],
   "source": [
    "# Sol:\n"
   ]
  },
  {
   "cell_type": "markdown",
   "metadata": {
    "id": "CaYkWlwxRt76"
   },
   "source": [
    "### C5\n",
    "\n",
    "Encuentra la mayor diferencia en % de velocidad entre la velocidad permitida y a la que se circulaba: (vel_circula-vel_limite)/vel_limite. \n",
    "\n",
    "(Sol: A las 17:22, en AV TRECE ROSAS FAROLA 69, se produce una infracción por SOBREPASAR LA VELOCIDAD MÁXIMA. 72Km/h en vía limitada a 30km/h)"
   ]
  },
  {
   "cell_type": "code",
   "execution_count": 16,
   "metadata": {
    "id": "40XRntcJRt77"
   },
   "outputs": [],
   "source": [
    "# Sol\n"
   ]
  },
  {
   "cell_type": "markdown",
   "metadata": {},
   "source": [
    "### C6\n",
    "__a)__ Crear un nuevo dataframe llamado `resumen_lugar` que contenga la información del número de multas y la recaudación total de las multas agrupadas por dirección.  Este dataframe debe contener además la información del punto medio de las coordenadas geográficas de cada dirección. El resultado será algo del estilo:\n",
    "\n",
    "|LUGAR \t|num_multas \t|recaudacion \t|latitud media del lugar \t|longitud media del lugar|\n",
    "|:----|:------:|----:|:---:|:--:|\n",
    "| \tCALLE ALCALA 51 \t| 7440|  \t1488000.0 \t| 4474540.0 \t| 441089.56| \n",
    "|  \tCALLE GRAN VIA 71 | \t5355 | \t1071000.0|  \t4474951.5 \t| 439718.47| \n",
    "|  \tCALLE ATOCHA 125 \t| 4345|  \t869000.0 \t| 4473465.0 \t| 441189.90| \n",
    "| \tA42PK5.750 ENT C1 \t| 3423|  \t683830.0 \t| 4469061.0 \t| 438863.81| \n",
    "\n",
    "__b)__ Crear un DataFrame con las 500 localizaciones con mayor número de multas. El nuevo dataframe ha de llamarse `resumen_lugar_500`.\n",
    "\n"
   ]
  },
  {
   "cell_type": "code",
   "execution_count": 17,
   "metadata": {
    "ExecuteTime": {
     "end_time": "2025-09-13T08:57:51.730121Z",
     "start_time": "2025-09-13T08:57:51.726619Z"
    }
   },
   "outputs": [],
   "source": [
    "# sol:\n"
   ]
  },
  {
   "cell_type": "markdown",
   "metadata": {},
   "source": [
    "### C7\n"
   ]
  },
  {
   "cell_type": "markdown",
   "metadata": {},
   "source": [
    "A partir del dataframe `resumen_500` calculado anteriormente, vamos a representar en un mapa de madrid los puntos donde se ocurren las infracciones. Estudiar y ejecutar el siguiente código:"
   ]
  },
  {
   "cell_type": "code",
   "execution_count": 18,
   "metadata": {},
   "outputs": [
    {
     "ename": "ModuleNotFoundError",
     "evalue": "No module named 'pyproj'",
     "output_type": "error",
     "traceback": [
      "\u001b[31m---------------------------------------------------------------------------\u001b[39m",
      "\u001b[31mModuleNotFoundError\u001b[39m                       Traceback (most recent call last)",
      "\u001b[36mCell\u001b[39m\u001b[36m \u001b[39m\u001b[32mIn[18]\u001b[39m\u001b[32m, line 1\u001b[39m\n\u001b[32m----> \u001b[39m\u001b[32m1\u001b[39m \u001b[38;5;28;01mfrom\u001b[39;00m\u001b[38;5;250m \u001b[39m\u001b[34;01mpyproj\u001b[39;00m\u001b[38;5;250m \u001b[39m\u001b[38;5;28;01mimport\u001b[39;00m Transformer\n\u001b[32m      2\u001b[39m \u001b[38;5;28;01mimport\u001b[39;00m\u001b[38;5;250m \u001b[39m\u001b[34;01mfolium\u001b[39;00m\n\u001b[32m      3\u001b[39m \u001b[38;5;28mprint\u001b[39m(folium.__version__)\n",
      "\u001b[31mModuleNotFoundError\u001b[39m: No module named 'pyproj'"
     ]
    }
   ],
   "source": [
    "from pyproj import Transformer\n",
    "import folium\n",
    "print(folium.__version__)"
   ]
  },
  {
   "cell_type": "code",
   "execution_count": null,
   "metadata": {},
   "outputs": [
    {
     "data": {
      "text/html": [
       "<div>\n",
       "<style scoped>\n",
       "    .dataframe tbody tr th:only-of-type {\n",
       "        vertical-align: middle;\n",
       "    }\n",
       "\n",
       "    .dataframe tbody tr th {\n",
       "        vertical-align: top;\n",
       "    }\n",
       "\n",
       "    .dataframe thead th {\n",
       "        text-align: right;\n",
       "    }\n",
       "</style>\n",
       "<table border=\"1\" class=\"dataframe\">\n",
       "  <thead>\n",
       "    <tr style=\"text-align: right;\">\n",
       "      <th></th>\n",
       "      <th>LUGAR</th>\n",
       "      <th>num_multas</th>\n",
       "      <th>recaudacion</th>\n",
       "      <th>lat</th>\n",
       "      <th>lon</th>\n",
       "    </tr>\n",
       "  </thead>\n",
       "  <tbody>\n",
       "    <tr>\n",
       "      <th>0</th>\n",
       "      <td>CALLE ALCALA 51</td>\n",
       "      <td>7440</td>\n",
       "      <td>1488000.0</td>\n",
       "      <td>40.419403</td>\n",
       "      <td>-3.694408</td>\n",
       "    </tr>\n",
       "    <tr>\n",
       "      <th>1</th>\n",
       "      <td>CALLE GRAN VIA 71</td>\n",
       "      <td>5355</td>\n",
       "      <td>1071000.0</td>\n",
       "      <td>40.423012</td>\n",
       "      <td>-3.710607</td>\n",
       "    </tr>\n",
       "    <tr>\n",
       "      <th>2</th>\n",
       "      <td>CALLE ATOCHA 125</td>\n",
       "      <td>4345</td>\n",
       "      <td>869000.0</td>\n",
       "      <td>40.409726</td>\n",
       "      <td>-3.693126</td>\n",
       "    </tr>\n",
       "    <tr>\n",
       "      <th>3</th>\n",
       "      <td>A42PK5.750 ENT C1</td>\n",
       "      <td>3423</td>\n",
       "      <td>683830.0</td>\n",
       "      <td>40.369885</td>\n",
       "      <td>-3.720116</td>\n",
       "    </tr>\n",
       "    <tr>\n",
       "      <th>4</th>\n",
       "      <td>CALLE SAN BERNARDO 91</td>\n",
       "      <td>3348</td>\n",
       "      <td>669600.0</td>\n",
       "      <td>40.429111</td>\n",
       "      <td>-3.706179</td>\n",
       "    </tr>\n",
       "  </tbody>\n",
       "</table>\n",
       "</div>"
      ],
      "text/plain": [
       "                                      LUGAR  num_multas  recaudacion  \\\n",
       "0  CALLE ALCALA 51                                 7440    1488000.0   \n",
       "1  CALLE GRAN VIA 71                               5355    1071000.0   \n",
       "2  CALLE ATOCHA 125                                4345     869000.0   \n",
       "3  A42PK5.750 ENT C1                               3423     683830.0   \n",
       "4  CALLE SAN BERNARDO 91                           3348     669600.0   \n",
       "\n",
       "         lat       lon  \n",
       "0  40.419403 -3.694408  \n",
       "1  40.423012 -3.710607  \n",
       "2  40.409726 -3.693126  \n",
       "3  40.369885 -3.720116  \n",
       "4  40.429111 -3.706179  "
      ]
     },
     "execution_count": 48,
     "metadata": {},
     "output_type": "execute_result"
    }
   ],
   "source": [
    "# Convertir coordenadas proyectadas (UTM) a lat/lon\n",
    "transformer = Transformer.from_crs(\"epsg:25830\", \"epsg:4326\")  # ETRS89/UTM30N -> WGS84\n",
    "resumen_lugar_500[['lat', 'lon']] = resumen_lugar_500.apply(lambda row: pd.Series(transformer.transform(row['lon'], row['lat'])), axis=1)\n",
    "resumen_lugar_500.head()"
   ]
  },
  {
   "cell_type": "markdown",
   "metadata": {},
   "source": [
    "`pyproj`  se usa para trabajar con sistemas de coordenadas geográficas, mientras que `Transformer` permite convertir coordenadas entre diferentes sistemas de referencia (por ejemplo, de coordenadas UTM a latitud/longitud WGS84).\n",
    "\n",
    "El siguiente fragmento de código nos va a permitir dibujar en el mapa (centrado en la Puerta del Sol), puntos de color rojo, con tamaño proporcional al número de multas registradas."
   ]
  },
  {
   "cell_type": "code",
   "execution_count": null,
   "metadata": {},
   "outputs": [
    {
     "name": "stdout",
     "output_type": "stream",
     "text": [
      "Se ha generado el mapa: mapa_multas_madrid.html para visualizar en el navegador\n"
     ]
    }
   ],
   "source": [
    "# Crear mapa centrado en la puerta del sol Madrid \n",
    "lat_centro = 40.416729\n",
    "lon_centro = -3.703339\n",
    "# Creamos el mapa\n",
    "m = folium.Map(location=[lat_centro, lon_centro], zoom_start=12)\n",
    "\n",
    "# Añadir puntos rojos proporcional al número de multas\n",
    "for idx, row in resumen_lugar_500.iterrows():\n",
    "    folium.CircleMarker(\n",
    "        location=[row['lat'], row['lon']],\n",
    "        radius = max(1,np.log2(row['num_multas'])), # tamaño proporcional al número de multas (para suavizar))\n",
    "        color='red',\n",
    "        fill=True,\n",
    "        fill_color='red',\n",
    "        fill_opacity=0.6,\n",
    "        popup=f\"{row['LUGAR']}\\nMultas: {row['num_multas']}\\nRecaudación: {row['recaudacion']}€\\n\"\n",
    "    ).add_to(m)\n",
    "\n",
    "# Guardar mapa\n",
    "name = \"mapa_multas_madrid.html\"\n",
    "m.save(name)\n",
    "print(f\"Se ha generado el mapa: {name} para visualizar en el navegador\")"
   ]
  },
  {
   "cell_type": "markdown",
   "metadata": {},
   "source": [
    "__Se pide:__\n",
    "\n",
    "Mostrar la información de las multas en un mapa usando folium. Distinguir los puntos dependiendo de  la calificación de las multas, por ejemplo, puntos rojos para las graves (máximo 500) y verdes para las leves."
   ]
  },
  {
   "cell_type": "code",
   "execution_count": null,
   "metadata": {
    "ExecuteTime": {
     "end_time": "2025-09-13T08:57:45.427086Z",
     "start_time": "2025-09-13T08:57:45.423133Z"
    }
   },
   "outputs": [],
   "source": [
    "# Sol \n"
   ]
  },
  {
   "cell_type": "markdown",
   "metadata": {
    "id": "fhuXXgEZRt77"
   },
   "source": [
    "### C8\n",
    "\n",
    "La columna DENUNCIANTE tiene información acerca de la entidad que ha realizado la denuncia. Calcula la frecuencia de cada uno de los tipos de denunciante. Dibuja un diagrama de barras ordenado de mayor a menor. Por ejemplo:\n",
    "\n",
    "<div align=\"center\">\n",
    "<img src=\"pordenunciante.png\" alt=\"hora\" style=\"width: 80%;\">\n",
    "</div>"
   ]
  },
  {
   "cell_type": "code",
   "execution_count": null,
   "metadata": {
    "id": "eX7P4rMcRt78"
   },
   "outputs": [],
   "source": [
    "# Sol\n"
   ]
  },
  {
   "cell_type": "markdown",
   "metadata": {
    "id": "dTibdtq7Rt78"
   },
   "source": [
    "### C9\n",
    "\n",
    "De todas las multas tramitadas, ¿cuántas han sido tramitadas por agentes de movilidad? Crea un nuevo dataframe que contenga solo las multas tramitadas por agentes de movilidad."
   ]
  },
  {
   "cell_type": "code",
   "execution_count": null,
   "metadata": {
    "id": "6d6wGqeDRt78"
   },
   "outputs": [],
   "source": [
    "# Sol\n"
   ]
  },
  {
   "cell_type": "markdown",
   "metadata": {
    "id": "WR8sWYEARt7-"
   },
   "source": [
    "### C10\n",
    "\n",
    "En este ejercicio se analizará cómo evoluciona el número de multas por hora en función del denunciante. Crear un nuevo dataframe llamado `multas_hora_denunciante` que contenga el número de multas registradas por hora y denunciante. Muestra cómo evoluciona el número de multas a lo largo del tiempo mediante un gráfico de líneas como el que se muestra:\n",
    "\n",
    "<div align=\"center\">\n",
    "<img src=\"porhora_denunciante.png\" alt=\"hora\" style=\"width: 60%;\">\n",
    "</div>\n",
    "\n"
   ]
  },
  {
   "cell_type": "code",
   "execution_count": null,
   "metadata": {
    "id": "Jn12PnM8Rt7-"
   },
   "outputs": [],
   "source": [
    "# Solución\n"
   ]
  },
  {
   "cell_type": "markdown",
   "metadata": {
    "id": "fZsovUR3Rt7_"
   },
   "source": [
    "### C11\n",
    "\n",
    "¿Cuánto dinero (como máximo) se ha recaudado en el mes de Diciembre de 2024 con el cobro de las multas? Una multa puede tener descuento por pronto pago del 50%, pero cabe la posibilidad de que el infractor no realice el pago en fecha para acojerse a dicho descuento. Si a ninguna de las multas se aplica el descuento, el importe máximo recaudado será la suma de todos los importes.\n"
   ]
  },
  {
   "cell_type": "code",
   "execution_count": null,
   "metadata": {
    "id": "FiFDLZ_eRt7_"
   },
   "outputs": [],
   "source": [
    "# Sol\n"
   ]
  },
  {
   "cell_type": "markdown",
   "metadata": {},
   "source": [
    "### C12\n",
    "¿Cuánto dinero se ha recaudado (máximo y mínimo) y cuántas multas se han tramitado   por tipo de tramitador?. Una multa puede tener descuento por pronto pago del 50%, pero cabe la posibilidad de que el infractor no realice el pago en fecha para acojerse a dicho descuento."
   ]
  },
  {
   "cell_type": "code",
   "execution_count": null,
   "metadata": {
    "id": "ErFkNzBnG56I"
   },
   "outputs": [],
   "source": [
    "# Sol\n"
   ]
  },
  {
   "cell_type": "markdown",
   "metadata": {
    "id": "JfW0nwRk63uY"
   },
   "source": [
    "# ETAPA 2: Construcción del módulo \n",
    "\n",
    "El objetivo de esta etapa es realizar un paquete con clases y módulos, de forma que la respuesta a algunes de las consultas anteriores se pueda realizar con una llamada a métodos de una clase.\n",
    "\n",
    "En esta sección se proporcionan algunas instrucciones para la creación del módulo `traficFines`.\n",
    "La gran mayoría de métodos y funciones pedidas aquí, se han implementado de alguna manera en la sección anterior, por lo que la construcción del módulo y las clases que se pide a continuación es en gran medida una reorganización de código. El módulo `traficFines` debe exportar las clases descritas a continuación."
   ]
  },
  {
   "cell_type": "markdown",
   "metadata": {
    "id": "IXNX5qz7_aNc"
   },
   "source": [
    "## Módulo `cache`\n",
    "\n",
    "En muchos programas necesitamos descargar información de Internet para procesarla. En estos casos, es muy posible que se acceda a la misma url varias veces, lo que  consume tiempo y ancho de banda innecesarios. Además, durante el desarrollo,  puede ser más cómodo trabajar con una copia local ya descargada, en lugar de repetir la descarga. Para que estas tareas sean más sencillas vamos a crear un módulo llamado `cache` que tendrá 2 clases `Cache` y `CacheURL`. \n",
    "* La clase `Cache`, que gestiona el almacenamiento de ficheros descargados en un directorio local.\n",
    "\n",
    "* La clase `CacheURL`, que amplía `Cache` para trabajar específicamente con URLs de Internet.\n",
    "\n",
    "\n",
    "El módulo `cache` debe contener los siguientes elementos:\n",
    "\n",
    "### Excepciones\n",
    "* `CacheError` para cualquier tipo de situación de error que se pueda producir en el módulo.\n",
    "\n"
   ]
  },
  {
   "cell_type": "markdown",
   "metadata": {
    "id": "IXNX5qz7_aNc"
   },
   "source": [
    "### Clase `Cache`\n",
    "\n",
    "Se encargará de guardar y recuperar datos en disco, de forma que estén disponibles incluso después de cerrar el programa.\n",
    "\n",
    "La clase `Cache` va a almacenar cualquier tipo de fichero asociado con un identificador. Por defecto, los datos se almacenarán en el home del usuario, en un directorio para este ejercicio. Por ejemplo:\n",
    "```\n",
    "CACHE_DIR = Path.home() / \".my_cache\"\n",
    "```\n",
    "Consultar [Path.home](https://docs.python.org/3/library/pathlib.html#pathlib.Path.home) del módulo `pathlib`.\n",
    "Pero en el constructor se podría indicar que fuera cualquier otra carpeta del sistema operativo.\n",
    "\n",
    "La clase `Cache` debe estar pensada para ser usada desde otras aplicaciones, no solo este ejercicio, por lo que cada objeto de la clase cache deberá tener los siguientes atributos:\n",
    "\n",
    "* `app_name`, un `str` que será un nombre asociado a la aplicación concreta. Este atributo se usará para crear una subcarpeta dentro de la carpeta  `CACHE_DIR`. De esta forma, cada aplicación tendrá una carpeta dentro de `CACHE_DIR` para almacenar sus datos.\n",
    "* `cache_dir`, un string con la ruta completa de la subcarpeta que usará la aplicación para almacenar sus datos.\n",
    "* `obsolescence`, un `int` que indica el número de días que consideraremos que los datos de la caché siguen siendo válidos.\n",
    "  \n",
    "Estos atributos serán internos (privados) y solo podrán consultarse a través de propiedades (@property), nunca modificarse desde fuera.\n",
    "\n",
    "Deberá tener (al menos) los siguientes métodos:\n",
    "\n",
    "* `set(self, name:str, data:str) -> None` : método que almacena en `cache_dir` los datos en `data` con el nombre `name`.\n",
    "* `exists(self, name: str) -> bool` : Comprueba si ya existe un fichero con el nombre name en la caché `cache_dir`.\n",
    "* `load(self, name: str) -> str`: método que recupera los datos almacenados en la caché, con el nombre `name`. Si no hay ningún dato asociado deberá lanzar la excepción `CacheError`.\n",
    "* `how_old(self, name: str) -> float`: método que nos dirá la edad en milisegundos del fichero almacenado en la caché con el nombre indicado. Esto sirve para comprobar si el fichero está caducado según el valor de `obsolescence`.\n",
    "* `delete(self, name: str) -> None`: método que borra de la caché el fichero  con nombre `nane`. Si  no existe, no se lanza ninguna excepción.\n",
    "* `clear(self) -> None`: método que borra todos los elementos de la caché.\n",
    "\n",
    "Se pueden definir todos los métodos auxiliares que se deseen. Si se quiere indicar algún error no indicado, se debe lanzar la excepción `CacheError`.\n"
   ]
  },
  {
   "cell_type": "markdown",
   "metadata": {
    "id": "IXNX5qz7_aNc"
   },
   "source": [
    "### Clase `CacheUrl`\n",
    "\n",
    "La clase `CacheURL` será una especialización de la clase `Cache` para trabajar específicamente con datos descargados de internet (URLs). \n",
    "\n",
    "Las URLs suelen ser muy largas y contener caracteres especiales (?, =, &, / …) que pueden dar problemas al usarlas directamente como nombres de ficheros en el sistema operativo.\n",
    "\n",
    "El objetivo principal es poder reutilizar datos de una misma URL sin necesidad de descargarla varias veces, y hacerlo de una forma segura y portable en todos los sistemas operativos.\n",
    "\n",
    "Para evitar problemas, no vamos a guardar la URL como nombre de fichero directamente, sino que guardaremos un hash de la URL. De esta forma, se obtiene un nombre de fichero corto y seguro.\n",
    "\n",
    "Por ejemplo:"
   ]
  },
  {
   "cell_type": "code",
   "execution_count": null,
   "metadata": {},
   "outputs": [
    {
     "data": {
      "text/plain": [
       "'456cb7e307cb1e8bb1e31528b2f8478b'"
      ]
     },
     "execution_count": 54,
     "metadata": {},
     "output_type": "execute_result"
    }
   ],
   "source": [
    "import hashlib\n",
    "url = 'https://agenciatributaria.madrid.es/portal/site/contribuyente'\n",
    "url_hashed = hashlib.md5(url.encode('utf-8')).hexdigest()\n",
    "url_hashed"
   ]
  },
  {
   "cell_type": "markdown",
   "metadata": {
    "id": "IXNX5qz7_aNc"
   },
   "source": [
    "La clase `CacheURL` comparte el constructor con la clase `Cache` y los métodos que debe definir son:\n",
    "\n",
    "* `get(self, url:str) -> str`\n",
    "  Este método va a realizar un `get`  a la url indicada. Este método consultará si tiene ya un objeto asociado a esta petición, si no lo tiene realizará la petición correspondiente, guardará el resultado en la caché. Devolverá el objeto correspondiente.\n",
    "\n",
    "\n",
    "Como el resultado depende de los argumentos dados, el nombre asociado al objeto que se guarda en la caché será un hash de la url junto con los parámetros opcionales a la petición.\n",
    "\n",
    "Se deben redefinir los métodos de la clase de la forma adecuada:\n",
    "* `exists(self, url: str, **kwargs) -> bool` \n",
    "* `load(self, url: str, **kwargs) -> bool` \n",
    "* `how_old(self, name: str, **kwargs) -> float`\n",
    "* `delete(self, name: str, **kwargs) -> None`\n"
   ]
  },
  {
   "cell_type": "markdown",
   "metadata": {
    "id": "IXNX5qz7_aNc"
   },
   "source": [
    "## Módulo `madridFines`\n",
    "\n",
    "El módulo `madridFines' debe contener los siguientes elementos:\n",
    "\n",
    "### Constantes\n",
    "\n",
    "Se definen (al menos) las constantes `ROOT` y `MADRID_FINES_URL` con los valores correspondientes.\n",
    "```\n",
    "RAIZ = \"https://datos.madrid.es/\"\n",
    "MADRID_FINES_URL = \"sites/v/index.jsp?vgnextoid=fb9a498a6bdb9410VgnVCM1000000b205a0aRCRD&vgnextchannel=374512b9ace9f310VgnVCM100000171f5a0aRCRD\"\n",
    "\n",
    "```\n",
    "\n",
    "### Excepciones\n",
    "* `MadridError` para cualquier tipo de situación de error que se pueda producir en el módulo.\n",
    "\n",
    "### Funciones\n",
    "\n",
    "Se definen (al menos) las siguientes funciones:\n",
    "\n",
    "* `get_url(year: int, month: int) -> str` . Función que recibe como argumentos un mes (1–12) y un año (con cuatro cifras, ej. 2024) y devuelva la URL del fichero CSV con los datos de multas correspondiente a ese mes y año, disponible en el portal de datos abiertos del Ayuntamiento de Madrid. Si el mes y año no están en la página se debe producir una excepción. Se recomienda resolver este ejercicio realizando scraping. Usar la librería `requests`  para hacer la petición HTTP y recuperar el HTML de la página. Usar `beautifulsoup4 (BS4)`  para parsear el HTML y localizar los enlaces correspondientes al año/mes buscado.\n",
    "\n",
    "\n",
    "### Clase `MadridFines`\n",
    "\n",
    "La clase `MadridFines` tiene como objetivo gestionar, limpiar, almacenar y analizar datos de multas de tráfico del Ayuntamiento de Madrid descargados desde el portal de datos abiertos. Es una clase pensada para automatizar el ciclo completo de análisis de multas: desde la descarga y preprocesamiento de multas de varios meses, hasta la generación de resúmenes y gráficos explicativos.\n",
    "\n",
    "* Los objetos de la clase tienen tres atributos que se corresponden con:\n",
    "  - `cacheurl`: un objeto de tipo `CacheURL` que permitirá gestionar la descarga de datos.\n",
    "  - `data`: atributo para almacenar los datos (de tipo `pd.DataFrame`). Este atributo podrá contener multas de distintos meses.\n",
    "  - `loaded`: un atributo de tipo lista de tuplas de la forma `(month, year)` para registrar los meses de datos contenidos en el atributo `data`.\n",
    "    Los dos últimos atributos están relacionados, por lo que ha de garantizarse que su modificación no podrá realizarse desde fuera de la clase. \n",
    "\n",
    "* La clase ha de contener al menos los siguientes métodos:\n",
    "\n",
    "  - `__init__`: método constructor. Acepta los argumentos `app_name` y `obsolescence` que se usarán para inicializar el atributo `cacherl`. El valor inicial de los atributos `data` y `loaded` será el dataframe vacío y la lista vacía respectivamente.\n",
    " \n",
    "  - `load(year: int, month: int, cacheurl) -> pd.DataFrame`: se trata de un método interno  y estático que utiliza el objeto cacheurl para acceder a los datos de multas del año `year` y mes `month`, a partir del cual se crea un dataframe de pandas que se será devuelto por la función.\n",
    " \n",
    "  - `clean(df: pd.DataFrame) -> None`: método interno y estático que permite limpiar y normalizar los datos del dataframe `df`. La limpieza y preprocesamiento a realizar es la que se define en la sección `ETAPA 1` (elimina espacios en blanco en columnas de texto, convierte columnas numéricas (VEL_CIRCULA, VEL_LIMITE, COORDENADA-X, COORDENADA-Y), crea una columna fecha a partir de ANIO, MES y HORA, etc.). Es posible que no todos los meses tengan las mismas columnas. Por ejemplo, en Mayo de 2019, las columnas son COORDENADA_X, COORDENADA_Y, en lugar de  COORDENADA-X, COORDENADA-Y.\n",
    " \n",
    "  - `add(self, year: int, month: int|None = None) -> None`: Permite añadir información de multas de un mes y un año concreto al dataset `data` actual. Evita duplicar meses ya cargados (si el mes ya existe, el método no hace nada). En caso contrario, se descargan los datos del año `year` y mes `month` usando el método `load`, se realiza la limpieza del dataframe descargado usando el método `clean` y se añade al dataset actual `data`. Este método tendrá que actualizar correctamente el atributo `loaded`. En el caso de que el parámetro `month` sea None, se descargarán los datos del año completo.\n",
    " \n",
    "  - `fines_hour(self, fig_name: str)-> None`: método que, siguiendo el planteamiento de la consulta C1, genera un gráfico de líneas que muestra la evolución del número de multas a lo largo de las horas del día. Si hay varios meses cargados, dibuja una línea por cada mes. La función guarda el gráfico con nombre `fig_name` (por ejemplo `evolucion_multas.png`). Ejemplo:\n",
    "    \n",
    "    <div align=\"center\">\n",
    "    <img src=\"evolucion_multas05.png\" alt=\"hora\" style=\"width: 60%;\">\n",
    "    </div>\n",
    "    \n",
    "  - `fines_calification(self)-> pd.DataFrame`: analiza la distribución de multas por calificación, mes y año. Devuelve un DataFrame con el número total de multas distinguiendo por tipo para cada uno de los meses. El dataframe obtenido tendrá el siguiente aspecto:\n",
    "    ```\n",
    "        CALIFICACION   GRAVE    LEVE  MUY GRAVE\n",
    "    MES ANIO                               \n",
    "    5   2019       61124  111017        747\n",
    "        2020       36752   43431        454\n",
    "        2021       58935   97140        833\n",
    "        2022      146864  102849        987\n",
    "        2023      137561   94448       1092\n",
    "    ```\n",
    "  - `total_payment(self) -> pd.DataFrame`: método que genera un resumen con el importe total (máximo y mínimo) recaudado por mes y año. Seguir el razonamiento de las consultas C11 y C12. Una multa puede tener descuento por pronto pago del 50%, pero cabe la posibilidad de que el infractor no realice el pago en fecha para acojerse a dicho descuento.\n"
   ]
  },
  {
   "cell_type": "markdown",
   "metadata": {},
   "source": [
    "## Tests\n",
    "\n",
    "Define los tests que creas necesarios para comprobar que las clases funcionan correctamente. Los tests deberán estar en un directorio independiente, dentro del proyecto, pero no en el paquete que se distribuye. Es necesario que los tests tengan una cobertura cercana al 100% de los ficheros del paquete y que simulen los accesos a Internet y que los datos que potencialmente en el sistema de ficheros (por ejemplo el funcionamiento de la caché) se haga dentro de una carpeta data que se encuentre en el directorio de los tests.\n",
    "\n",
    "\n",
    "# Entrega\n",
    "La entrega consistirá en un fichero comprimido `zip` (no fichero `.rar`)  con lo siguiente:\n",
    "- Un directorio con todos los ficheros del paquete. El directorio del paquete tiene que tener todo lo necesario para poder generar el fichero whl.\n",
    "- El fichero whl para poder instalar el paquete.\n",
    "- Fichero README.md con instrucciones de uso de la entrega.\n",
    "- El presente cuaderno de jupyter con las consultas de la Etapa 1.\n",
    "- Nuevo cuaderno de jupyter que contenga ejemplos e instrucciones para validar el correcto funcionamiento de las clases implementadas (y las excepciones correspondientes).\n",
    "\n",
    "# Declaración responsable sobre autoría y uso ético de inteligencia artificial, otros recursos o ayuda externa\n",
    "\n",
    "Con la entrega de esta tarea, declaro de manera responsable que\n",
    "es el resultado de mi trabajo intelectual personal y creativo, y que ha sido elaborado de acuerdo con los principios éticos y las normas de integridad vigentes en la comunidad académica y, más\n",
    "específicamente, en la [Universidad Complutense de Madrid](https://www.ucm.es/file/declaracion-responsable-sobre-autoria-y-uso-%C3%89tico-de-herramientas-de-ia).\n",
    "\n",
    "Soy, pues, autor del material aquí incluido y, cuando no ha sido así y he tomado el material de\n",
    "otra fuente, lo he citado o bien he declarado su procedencia de forma clara -incluidas, en su\n",
    "caso, herramientas de inteligencia artificial-. Las ideas y aportaciones principales incluidas en este trabajo, y que acreditan la adquisición de competencias, son mías y no proceden de otras fuentes o han sido reescritas usando material de otras fuentes.\n",
    "\n",
    "# Criterios de la corrección\n",
    "\n",
    "Horas previstas para la realización de la práctica 15 horas.\n",
    "\n",
    "* El cuaderno de jupyter con las consultas de la Etapa 1 (15%)\n",
    "* Corrección de la solución con clases y paquetes: 40%\n",
    "* Correcta documentación de los ficheros: 15%\n",
    "* Correcta definición del paquete: 10%\n",
    "* Correcta definición de tests: 20%\n"
   ]
  },
  {
   "cell_type": "markdown",
   "metadata": {},
   "source": []
  },
  {
   "cell_type": "code",
   "execution_count": null,
   "metadata": {},
   "outputs": [],
   "source": []
  },
  {
   "cell_type": "markdown",
   "metadata": {
    "id": "1TG8pw83_aNc"
   },
   "source": [
    "------------------"
   ]
  }
 ],
 "metadata": {
  "colab": {
   "provenance": [],
   "toc_visible": true
  },
  "hide_input": false,
  "kernelspec": {
   "display_name": "Python 3",
   "language": "python",
   "name": "python3"
  },
  "language_info": {
   "codemirror_mode": {
    "name": "ipython",
    "version": 3
   },
   "file_extension": ".py",
   "mimetype": "text/x-python",
   "name": "python",
   "nbconvert_exporter": "python",
   "pygments_lexer": "ipython3",
   "version": "3.13.9"
  },
  "nbTranslate": {
   "displayLangs": [
    "en",
    "es"
   ],
   "hotkey": "alt-t",
   "langInMainMenu": true,
   "sourceLang": "es",
   "targetLang": "en",
   "useGoogleTranslate": true
  },
  "toc": {
   "base_numbering": 1,
   "nav_menu": {},
   "number_sections": true,
   "sideBar": true,
   "skip_h1_title": false,
   "title_cell": "Table of Contents",
   "title_sidebar": "Contents",
   "toc_cell": false,
   "toc_position": {
    "height": "calc(100% - 180px)",
    "left": "10px",
    "top": "150px",
    "width": "224px"
   },
   "toc_section_display": true,
   "toc_window_display": false
  }
 },
 "nbformat": 4,
 "nbformat_minor": 4
}
